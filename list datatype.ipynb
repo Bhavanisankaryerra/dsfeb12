{
 "cells": [
  {
   "cell_type": "markdown",
   "id": "72559c3d",
   "metadata": {},
   "source": [
    "# Lists\n",
    "-  lists are mutable(changable)\n",
    "-  It allows duplicate value\n",
    "-  lists allows different datatypes to store"
   ]
  },
  {
   "cell_type": "markdown",
   "id": "6d25df7a",
   "metadata": {},
   "source": [
    "### few important methodology to modify list\n",
    "- append()\n",
    "- extend()\n",
    "- count()\n",
    "- clear()\n",
    "- pop()\n",
    "- copy()\n",
    "- index\n",
    "- remove()\n",
    "- sort()\n",
    "- insert()\n"
   ]
  },
  {
   "cell_type": "code",
   "execution_count": 16,
   "id": "2aed1f85",
   "metadata": {},
   "outputs": [
    {
     "data": {
      "text/plain": [
       "[1, 2.0, 'apple', True]"
      ]
     },
     "execution_count": 16,
     "metadata": {},
     "output_type": "execute_result"
    }
   ],
   "source": [
    "list1 = [1,2.0,'apple',True]\n",
    "list1"
   ]
  },
  {
   "cell_type": "code",
   "execution_count": 18,
   "id": "f4872b0e",
   "metadata": {},
   "outputs": [],
   "source": [
    "#append\n",
    "# add value at last.\n",
    "list1.append('ball')"
   ]
  },
  {
   "cell_type": "code",
   "execution_count": 19,
   "id": "804f9a83",
   "metadata": {},
   "outputs": [
    {
     "data": {
      "text/plain": [
       "[1, 2.0, 'apple', True, 'ball']"
      ]
     },
     "execution_count": 19,
     "metadata": {},
     "output_type": "execute_result"
    }
   ],
   "source": [
    "list1"
   ]
  },
  {
   "cell_type": "code",
   "execution_count": 20,
   "id": "2eaa71b8",
   "metadata": {},
   "outputs": [],
   "source": [
    "#extend\n",
    "\n",
    "list1.extend([23,\"car\",'tree',45.0])"
   ]
  },
  {
   "cell_type": "code",
   "execution_count": 21,
   "id": "e667a539",
   "metadata": {},
   "outputs": [
    {
     "data": {
      "text/plain": [
       "[1, 2.0, 'apple', True, 'ball', 23, 'car', 'tree', 45.0]"
      ]
     },
     "execution_count": 21,
     "metadata": {},
     "output_type": "execute_result"
    }
   ],
   "source": [
    "list1"
   ]
  },
  {
   "cell_type": "code",
   "execution_count": 23,
   "id": "fbf28b69",
   "metadata": {},
   "outputs": [],
   "source": [
    "list1.append(1)"
   ]
  },
  {
   "cell_type": "code",
   "execution_count": 24,
   "id": "aa5e5dc0",
   "metadata": {},
   "outputs": [
    {
     "data": {
      "text/plain": [
       "[1, 2.0, 'apple', True, 'ball', 23, 'car', 'tree', 45.0, 1]"
      ]
     },
     "execution_count": 24,
     "metadata": {},
     "output_type": "execute_result"
    }
   ],
   "source": [
    "list1"
   ]
  },
  {
   "cell_type": "code",
   "execution_count": 30,
   "id": "faccdb1f",
   "metadata": {},
   "outputs": [
    {
     "data": {
      "text/plain": [
       "3"
      ]
     },
     "execution_count": 30,
     "metadata": {},
     "output_type": "execute_result"
    }
   ],
   "source": [
    "#count\n",
    "list1.count(1)"
   ]
  },
  {
   "cell_type": "code",
   "execution_count": 32,
   "id": "88e45ece",
   "metadata": {},
   "outputs": [
    {
     "data": {
      "text/plain": [
       "[1, 2, 3, 4]"
      ]
     },
     "execution_count": 32,
     "metadata": {},
     "output_type": "execute_result"
    }
   ],
   "source": [
    "list2=[1,2,3,4]\n",
    "list2"
   ]
  },
  {
   "cell_type": "code",
   "execution_count": 33,
   "id": "08640f38",
   "metadata": {},
   "outputs": [],
   "source": [
    "#clear\n",
    "list2.clear()"
   ]
  },
  {
   "cell_type": "code",
   "execution_count": 34,
   "id": "07fd8ad9",
   "metadata": {},
   "outputs": [
    {
     "data": {
      "text/plain": [
       "[]"
      ]
     },
     "execution_count": 34,
     "metadata": {},
     "output_type": "execute_result"
    }
   ],
   "source": [
    "list2"
   ]
  },
  {
   "cell_type": "code",
   "execution_count": 35,
   "id": "3a74b208",
   "metadata": {},
   "outputs": [
    {
     "data": {
      "text/plain": [
       "[1, 2.0, 'apple', True, 'ball', 23, 'car', 'tree', 45.0, 1]"
      ]
     },
     "execution_count": 35,
     "metadata": {},
     "output_type": "execute_result"
    }
   ],
   "source": [
    "list1"
   ]
  },
  {
   "cell_type": "code",
   "execution_count": 36,
   "id": "95785a5c",
   "metadata": {},
   "outputs": [
    {
     "data": {
      "text/plain": [
       "1"
      ]
     },
     "execution_count": 36,
     "metadata": {},
     "output_type": "execute_result"
    }
   ],
   "source": [
    "#pop\n",
    "list1.pop()"
   ]
  },
  {
   "cell_type": "code",
   "execution_count": 37,
   "id": "4291da36",
   "metadata": {},
   "outputs": [
    {
     "data": {
      "text/plain": [
       "[1, 2.0, 'apple', True, 'ball', 23, 'car', 'tree', 45.0]"
      ]
     },
     "execution_count": 37,
     "metadata": {},
     "output_type": "execute_result"
    }
   ],
   "source": [
    "list1"
   ]
  },
  {
   "cell_type": "code",
   "execution_count": 39,
   "id": "06fd8a63",
   "metadata": {},
   "outputs": [
    {
     "data": {
      "text/plain": [
       "'ball'"
      ]
     },
     "execution_count": 39,
     "metadata": {},
     "output_type": "execute_result"
    }
   ],
   "source": [
    "#popping the value using index \n",
    "list1.pop(4)"
   ]
  },
  {
   "cell_type": "code",
   "execution_count": 40,
   "id": "9c6c73b0",
   "metadata": {},
   "outputs": [
    {
     "data": {
      "text/plain": [
       "[1, 2.0, 'apple', True, 23, 'car', 'tree', 45.0]"
      ]
     },
     "execution_count": 40,
     "metadata": {},
     "output_type": "execute_result"
    }
   ],
   "source": [
    "list1"
   ]
  },
  {
   "cell_type": "code",
   "execution_count": 46,
   "id": "ebf6e707",
   "metadata": {},
   "outputs": [],
   "source": [
    "#copy\n",
    "#Return a shallow copy of the list.\n",
    "list3=list1.copy()"
   ]
  },
  {
   "cell_type": "code",
   "execution_count": 48,
   "id": "50279615",
   "metadata": {},
   "outputs": [
    {
     "data": {
      "text/plain": [
       "[1, 2.0, 'apple', True, 23, 'car', 'tree', 45.0, 'phone']"
      ]
     },
     "execution_count": 48,
     "metadata": {},
     "output_type": "execute_result"
    }
   ],
   "source": [
    "list3"
   ]
  },
  {
   "cell_type": "code",
   "execution_count": 43,
   "id": "0d4e25e6",
   "metadata": {},
   "outputs": [],
   "source": [
    "list1.append('phone')"
   ]
  },
  {
   "cell_type": "code",
   "execution_count": 44,
   "id": "e4390396",
   "metadata": {},
   "outputs": [
    {
     "data": {
      "text/plain": [
       "[1, 2.0, 'apple', True, 23, 'car', 'tree', 45.0, 'phone']"
      ]
     },
     "execution_count": 44,
     "metadata": {},
     "output_type": "execute_result"
    }
   ],
   "source": [
    "list1"
   ]
  },
  {
   "cell_type": "code",
   "execution_count": 47,
   "id": "806d6cb1",
   "metadata": {},
   "outputs": [
    {
     "data": {
      "text/plain": [
       "[1, 2.0, 'apple', True, 23, 'car', 'tree', 45.0, 'phone']"
      ]
     },
     "execution_count": 47,
     "metadata": {},
     "output_type": "execute_result"
    }
   ],
   "source": [
    "list3"
   ]
  },
  {
   "cell_type": "code",
   "execution_count": 50,
   "id": "1d2a778b",
   "metadata": {},
   "outputs": [
    {
     "data": {
      "text/plain": [
       "2"
      ]
     },
     "execution_count": 50,
     "metadata": {},
     "output_type": "execute_result"
    }
   ],
   "source": [
    "#index\n",
    "#it returns the index of given value\n",
    "list1.index('apple')"
   ]
  },
  {
   "cell_type": "code",
   "execution_count": 51,
   "id": "23f46b15",
   "metadata": {},
   "outputs": [
    {
     "ename": "TypeError",
     "evalue": "remove() takes exactly one argument (0 given)",
     "output_type": "error",
     "traceback": [
      "\u001b[1;31m---------------------------------------------------------------------------\u001b[0m",
      "\u001b[1;31mTypeError\u001b[0m                                 Traceback (most recent call last)",
      "\u001b[1;32m<ipython-input-51-ae06efc04c44>\u001b[0m in \u001b[0;36m<module>\u001b[1;34m\u001b[0m\n\u001b[1;32m----> 1\u001b[1;33m \u001b[0mlist1\u001b[0m\u001b[1;33m.\u001b[0m\u001b[0mremove\u001b[0m\u001b[1;33m(\u001b[0m\u001b[1;33m)\u001b[0m\u001b[1;33m\u001b[0m\u001b[1;33m\u001b[0m\u001b[0m\n\u001b[0m",
      "\u001b[1;31mTypeError\u001b[0m: remove() takes exactly one argument (0 given)"
     ]
    }
   ],
   "source": [
    "#remove\n",
    "list1.remove()"
   ]
  },
  {
   "cell_type": "code",
   "execution_count": 52,
   "id": "42310f78",
   "metadata": {},
   "outputs": [],
   "source": [
    "list1.remove('tree')"
   ]
  },
  {
   "cell_type": "code",
   "execution_count": 53,
   "id": "0d852942",
   "metadata": {},
   "outputs": [
    {
     "data": {
      "text/plain": [
       "[1, 2.0, 'apple', True, 23, 'car', 45.0, 'phone']"
      ]
     },
     "execution_count": 53,
     "metadata": {},
     "output_type": "execute_result"
    }
   ],
   "source": [
    "list1"
   ]
  },
  {
   "cell_type": "code",
   "execution_count": 54,
   "id": "cbf61b8b",
   "metadata": {},
   "outputs": [],
   "source": [
    "list1.reverse()"
   ]
  },
  {
   "cell_type": "code",
   "execution_count": 55,
   "id": "98ad5e67",
   "metadata": {},
   "outputs": [
    {
     "data": {
      "text/plain": [
       "['phone', 45.0, 'car', 23, True, 'apple', 2.0, 1]"
      ]
     },
     "execution_count": 55,
     "metadata": {},
     "output_type": "execute_result"
    }
   ],
   "source": [
    "list1"
   ]
  },
  {
   "cell_type": "code",
   "execution_count": 59,
   "id": "4c1fe25b",
   "metadata": {},
   "outputs": [
    {
     "data": {
      "text/plain": [
       "[23, 32, 12, 45, 11, 100, 30, 87]"
      ]
     },
     "execution_count": 59,
     "metadata": {},
     "output_type": "execute_result"
    }
   ],
   "source": [
    "list2=[23,32,12,45,11,100,30,87]\n",
    "list2"
   ]
  },
  {
   "cell_type": "code",
   "execution_count": 60,
   "id": "722d66cc",
   "metadata": {},
   "outputs": [],
   "source": [
    "#sort\n",
    "list2.sort()"
   ]
  },
  {
   "cell_type": "code",
   "execution_count": 62,
   "id": "4a10093b",
   "metadata": {},
   "outputs": [
    {
     "data": {
      "text/plain": [
       "[11, 12, 23, 30, 32, 45, 87, 100]"
      ]
     },
     "execution_count": 62,
     "metadata": {},
     "output_type": "execute_result"
    }
   ],
   "source": [
    "list2"
   ]
  },
  {
   "cell_type": "code",
   "execution_count": 63,
   "id": "b7cd72c7",
   "metadata": {},
   "outputs": [
    {
     "ename": "TypeError",
     "evalue": "insert expected 2 arguments, got 1",
     "output_type": "error",
     "traceback": [
      "\u001b[1;31m---------------------------------------------------------------------------\u001b[0m",
      "\u001b[1;31mTypeError\u001b[0m                                 Traceback (most recent call last)",
      "\u001b[1;32m<ipython-input-63-9148a428c5a1>\u001b[0m in \u001b[0;36m<module>\u001b[1;34m\u001b[0m\n\u001b[1;32m----> 1\u001b[1;33m \u001b[0mlist2\u001b[0m\u001b[1;33m.\u001b[0m\u001b[0minsert\u001b[0m\u001b[1;33m(\u001b[0m\u001b[1;34m'num'\u001b[0m\u001b[1;33m)\u001b[0m\u001b[1;33m\u001b[0m\u001b[1;33m\u001b[0m\u001b[0m\n\u001b[0m",
      "\u001b[1;31mTypeError\u001b[0m: insert expected 2 arguments, got 1"
     ]
    }
   ],
   "source": [
    "#insert\n",
    "list2.insert('num')"
   ]
  },
  {
   "cell_type": "code",
   "execution_count": 65,
   "id": "7397f573",
   "metadata": {},
   "outputs": [],
   "source": [
    "list2.insert(3,'num')"
   ]
  },
  {
   "cell_type": "code",
   "execution_count": 66,
   "id": "951d1c00",
   "metadata": {},
   "outputs": [
    {
     "data": {
      "text/plain": [
       "[11, 12, 23, 'num', 30, 32, 45, 87, 100]"
      ]
     },
     "execution_count": 66,
     "metadata": {},
     "output_type": "execute_result"
    }
   ],
   "source": [
    "list2"
   ]
  },
  {
   "cell_type": "markdown",
   "id": "20707fac",
   "metadata": {},
   "source": [
    "## Access List Items\n",
    "### List items are indexed and you can access them by referring to the index number:"
   ]
  },
  {
   "cell_type": "code",
   "execution_count": 70,
   "id": "538b53a7",
   "metadata": {},
   "outputs": [
    {
     "data": {
      "text/plain": [
       "['phone', 45.0, 'car', 23, True, 'apple', 2.0, 1]"
      ]
     },
     "execution_count": 70,
     "metadata": {},
     "output_type": "execute_result"
    }
   ],
   "source": [
    "list1"
   ]
  },
  {
   "cell_type": "code",
   "execution_count": 94,
   "id": "3af11ec6",
   "metadata": {},
   "outputs": [
    {
     "data": {
      "text/plain": [
       "23"
      ]
     },
     "execution_count": 94,
     "metadata": {},
     "output_type": "execute_result"
    }
   ],
   "source": [
    "list1[3]"
   ]
  },
  {
   "cell_type": "code",
   "execution_count": 95,
   "id": "1adf5d6c",
   "metadata": {},
   "outputs": [
    {
     "data": {
      "text/plain": [
       "'phone'"
      ]
     },
     "execution_count": 95,
     "metadata": {},
     "output_type": "execute_result"
    }
   ],
   "source": [
    "list1[0]"
   ]
  },
  {
   "cell_type": "markdown",
   "id": "307ce62a",
   "metadata": {},
   "source": [
    "### Negative Indexing\n",
    "#### Negative indexing means start from the end\n",
    "#### -1 refers to the last item, -2 refers to the second last item etc."
   ]
  },
  {
   "cell_type": "code",
   "execution_count": 74,
   "id": "5c122360",
   "metadata": {},
   "outputs": [
    {
     "data": {
      "text/plain": [
       "[1]"
      ]
     },
     "execution_count": 74,
     "metadata": {},
     "output_type": "execute_result"
    }
   ],
   "source": [
    "list1[-1:]"
   ]
  },
  {
   "cell_type": "code",
   "execution_count": 96,
   "id": "2483f434",
   "metadata": {},
   "outputs": [
    {
     "data": {
      "text/plain": [
       "'phone'"
      ]
     },
     "execution_count": 96,
     "metadata": {},
     "output_type": "execute_result"
    }
   ],
   "source": [
    "list1[-len(list1)]"
   ]
  },
  {
   "cell_type": "markdown",
   "id": "a4f23188",
   "metadata": {},
   "source": [
    "### Range of Indexes\n",
    "#### You can specify a range of indexes by specifying where to start and where to end the range.\n",
    "#### When specifying a range, the return value will be a new list with the specified items.\n",
    "### Note: The search will start at index 0 (included) and end at index 4 (not included)."
   ]
  },
  {
   "cell_type": "code",
   "execution_count": 97,
   "id": "169cdac9",
   "metadata": {},
   "outputs": [
    {
     "data": {
      "text/plain": [
       "['phone', 45.0, 'car', 23]"
      ]
     },
     "execution_count": 97,
     "metadata": {},
     "output_type": "execute_result"
    }
   ],
   "source": [
    " list1[0:4]"
   ]
  },
  {
   "cell_type": "code",
   "execution_count": 98,
   "id": "4967b81b",
   "metadata": {},
   "outputs": [
    {
     "data": {
      "text/plain": [
       "['phone', 'car']"
      ]
     },
     "execution_count": 98,
     "metadata": {},
     "output_type": "execute_result"
    }
   ],
   "source": [
    "list1[0:4:2]"
   ]
  },
  {
   "cell_type": "code",
   "execution_count": 78,
   "id": "eba0a8ba",
   "metadata": {},
   "outputs": [
    {
     "data": {
      "text/plain": [
       "[1, 2.0, 'apple', True, 23, 'car', 45.0, 'phone']"
      ]
     },
     "execution_count": 78,
     "metadata": {},
     "output_type": "execute_result"
    }
   ],
   "source": [
    "list1[::-1]"
   ]
  },
  {
   "cell_type": "code",
   "execution_count": 79,
   "id": "5055c867",
   "metadata": {},
   "outputs": [
    {
     "data": {
      "text/plain": [
       "['phone', 45.0, 'car', 23, True, 'apple', 2.0, 1]"
      ]
     },
     "execution_count": 79,
     "metadata": {},
     "output_type": "execute_result"
    }
   ],
   "source": [
    "list1"
   ]
  },
  {
   "cell_type": "code",
   "execution_count": 76,
   "id": "a4345a96",
   "metadata": {},
   "outputs": [
    {
     "data": {
      "text/plain": [
       "[True, 'apple', 2.0]"
      ]
     },
     "execution_count": 76,
     "metadata": {},
     "output_type": "execute_result"
    }
   ],
   "source": [
    "list1[4:-1]"
   ]
  },
  {
   "cell_type": "code",
   "execution_count": 87,
   "id": "33d129c1",
   "metadata": {},
   "outputs": [
    {
     "data": {
      "text/plain": [
       "[1, 2.0, 'apple']"
      ]
     },
     "execution_count": 87,
     "metadata": {},
     "output_type": "execute_result"
    }
   ],
   "source": [
    "list1[-1:-4:-1]"
   ]
  },
  {
   "cell_type": "code",
   "execution_count": 88,
   "id": "15e727f3",
   "metadata": {},
   "outputs": [
    {
     "data": {
      "text/plain": [
       "[1, 2.0, 'apple']"
      ]
     },
     "execution_count": 88,
     "metadata": {},
     "output_type": "execute_result"
    }
   ],
   "source": [
    "list1[-1:4:-1]"
   ]
  },
  {
   "cell_type": "code",
   "execution_count": 90,
   "id": "9fbb1f77",
   "metadata": {},
   "outputs": [
    {
     "data": {
      "text/plain": [
       "['car', 23, True]"
      ]
     },
     "execution_count": 90,
     "metadata": {},
     "output_type": "execute_result"
    }
   ],
   "source": [
    "list1[2:5]"
   ]
  },
  {
   "cell_type": "code",
   "execution_count": 100,
   "id": "a1e7bbc9",
   "metadata": {},
   "outputs": [
    {
     "data": {
      "text/plain": [
       "['car', 23, True, 'apple']"
      ]
     },
     "execution_count": 100,
     "metadata": {},
     "output_type": "execute_result"
    }
   ],
   "source": [
    "list1[-6:-2:1]"
   ]
  },
  {
   "cell_type": "code",
   "execution_count": 104,
   "id": "4924b932",
   "metadata": {},
   "outputs": [
    {
     "data": {
      "text/plain": [
       "['phone', 45.0, 'car', 23, True, 'apple']"
      ]
     },
     "execution_count": 104,
     "metadata": {},
     "output_type": "execute_result"
    }
   ],
   "source": [
    "list1[0:-2:1]"
   ]
  },
  {
   "cell_type": "markdown",
   "id": "d2b4e312",
   "metadata": {},
   "source": [
    "### Change Item Value\n",
    "#### To change the value of a specific item, refer to the index number:"
   ]
  },
  {
   "cell_type": "code",
   "execution_count": 108,
   "id": "aa7b192d",
   "metadata": {},
   "outputs": [],
   "source": [
    "list1[0]='mobile'"
   ]
  },
  {
   "cell_type": "code",
   "execution_count": 117,
   "id": "475ff4a7",
   "metadata": {},
   "outputs": [],
   "source": [
    "list1=['mobile', 45.0, 'car', 23, True, 'apple', 2.0, 1]"
   ]
  },
  {
   "cell_type": "code",
   "execution_count": 118,
   "id": "dbd9411d",
   "metadata": {},
   "outputs": [
    {
     "data": {
      "text/plain": [
       "['mobile', 45.0, 'car', 23, True, 'apple', 2.0, 1]"
      ]
     },
     "execution_count": 118,
     "metadata": {},
     "output_type": "execute_result"
    }
   ],
   "source": [
    "list1"
   ]
  },
  {
   "cell_type": "code",
   "execution_count": 119,
   "id": "a08c264f",
   "metadata": {},
   "outputs": [],
   "source": [
    "list1[2:4]=['water',34]"
   ]
  },
  {
   "cell_type": "code",
   "execution_count": 120,
   "id": "4656ec29",
   "metadata": {},
   "outputs": [
    {
     "data": {
      "text/plain": [
       "['mobile', 45.0, 'water', 34, True, 'apple', 2.0, 1]"
      ]
     },
     "execution_count": 120,
     "metadata": {},
     "output_type": "execute_result"
    }
   ],
   "source": [
    "list1"
   ]
  },
  {
   "cell_type": "code",
   "execution_count": null,
   "id": "1f07b11f",
   "metadata": {},
   "outputs": [],
   "source": []
  }
 ],
 "metadata": {
  "kernelspec": {
   "display_name": "Python 3",
   "language": "python",
   "name": "python3"
  },
  "language_info": {
   "codemirror_mode": {
    "name": "ipython",
    "version": 3
   },
   "file_extension": ".py",
   "mimetype": "text/x-python",
   "name": "python",
   "nbconvert_exporter": "python",
   "pygments_lexer": "ipython3",
   "version": "3.8.8"
  }
 },
 "nbformat": 4,
 "nbformat_minor": 5
}
